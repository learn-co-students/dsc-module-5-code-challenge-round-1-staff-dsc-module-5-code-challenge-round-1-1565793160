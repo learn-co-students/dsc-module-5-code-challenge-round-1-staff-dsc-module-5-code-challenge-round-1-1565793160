{
 "cells": [
  {
   "cell_type": "markdown",
   "metadata": {},
   "source": [
    "# Module 5 Assessment\n",
    "\n",
    "Welcome to your Module 5 assessment! You will be tested for your understanding of concepts as well as your ability to solve problems that have been covered in class and in the curriculum. Use any libraries that you want to solve the problems in the assessment.\n",
    "\n",
    "You will have up to two hours to complete this assessment. Remember to not get stuck on any one problem for too long!\n",
    "\n",
    "The sections of the assessment are:\n",
    "\n",
    "* Decision Trees\n",
    "* Ensemble Models\n",
    "* Principal Components Analysis\n",
    "* Clustering\n",
    "\n",
    "Or perhaps KNN\n"
   ]
  },
  {
   "cell_type": "markdown",
   "metadata": {},
   "source": [
    "## Part 1: Decision Trees\n",
    "1) Demonstrate how regression decision trees make predictions. How does it differ from a linear regression?  \n",
    "2) Fit a Decision Tree model and make a prediction.  \n",
    "3) Obtain feature importances to determine the most important factors in your prediction."
   ]
  },
  {
   "cell_type": "markdown",
   "metadata": {},
   "source": [
    "## Part 2: Ensemble Models\n",
    "\n",
    "* Use GridSearchCV to increase model performance through parameter tuning\n",
    "* Describe the difference between Random Forests and Boosting  \n",
    "\n",
    "1) Explain how the Random Forest algorithm differs from the Boosting algorithm.    \n",
    "2) What makes a Random Forest \"random\"? How does it differ than decision trees?  \n",
    "3) What is meant by bagging? "
   ]
  },
  {
   "cell_type": "markdown",
   "metadata": {},
   "source": [
    "## Part 3: Principal Component Analysis\n",
    "\n",
    "* Implement the PCA algorithm using sci-kit learn library\n",
    "* Determine the optimal number of n components when performing PCA by observing the explained variance\n",
    "\n",
    "1) Use principal component analysis on a dataset to transform features --> use those features as the input features to another machine learning model.  \n",
    "2) Create a function that will perform feature extraction  \n",
    "3) Create a visualization or show an image of a visualization and ask students to pick the optimal number of components for PCA.\n",
    "\n",
    "These questions should almost entirely be related to implementation rather than the linear algebra behind PCA. We don't go in depth enough to make it a core concern."
   ]
  },
  {
   "cell_type": "markdown",
   "metadata": {},
   "source": [
    "## Part 4: Clustering\n",
    "1) Create and interpret a dendogram while using HAC to determine the optimal number of clusters  \n",
    "2) Have students use an elbow plot to pick the optimal number of clusters.  \n",
    "3) Have students explain how clusters are evaluated.  \n",
    "4) Students fit clustering models and create a visualization.\n"
   ]
  }
 ],
 "metadata": {
  "kernelspec": {
   "display_name": "Python 3",
   "language": "python",
   "name": "python3"
  },
  "language_info": {
   "codemirror_mode": {
    "name": "ipython",
    "version": 3
   },
   "file_extension": ".py",
   "mimetype": "text/x-python",
   "name": "python",
   "nbconvert_exporter": "python",
   "pygments_lexer": "ipython3",
   "version": "3.6.8"
  }
 },
 "nbformat": 4,
 "nbformat_minor": 2
}
