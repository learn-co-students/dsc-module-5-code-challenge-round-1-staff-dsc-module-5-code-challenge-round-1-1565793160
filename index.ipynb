{
 "cells": [
  {
   "cell_type": "markdown",
   "metadata": {},
   "source": [
    "# Module 5 Assessment\n",
    "\n",
    "Welcome to your Module 5 assessment! You will be tested for your understanding of concepts as well as your ability to solve problems that have been covered in class and in the curriculum. Use any libraries that you want to solve the problems in the assessment.\n",
    "\n",
    "You will have up to two hours to complete this assessment. Remember to not get stuck on any one problem for too long!\n",
    "\n",
    "The sections of the assessment are:\n",
    "\n",
    "* Decision Trees\n",
    "* Ensemble Models\n",
    "* Principal Components Analysis\n",
    "* Clustering\n",
    "\n",
    "Or perhaps KNN\n"
   ]
  },
  {
   "cell_type": "markdown",
   "metadata": {},
   "source": [
    "## Part 1: Decision Trees\n",
    "1) Demonstrate how regression decision trees make predictions. How does it differ from a linear regression?\n"
   ]
  },
  {
   "cell_type": "markdown",
   "metadata": {},
   "source": [
    "Fit a model with a decision tree regressor"
   ]
  },
  {
   "cell_type": "markdown",
   "metadata": {},
   "source": [
    "## Part 2: Ensemble Models\n",
    "\n",
    "* Use GridSearchCV to increase model performance through parameter tuning\n",
    "* Describe the difference between Random Forests and Boosting  \n",
    "\n",
    "1) Explain how the Random Forest algorithm differs from the Boosting algorithm.  \n",
    "2) What makes a Random Forest \"random\"? How does it differ than decision trees?  \n",
    "3) Use feature importance "
   ]
  },
  {
   "cell_type": "markdown",
   "metadata": {},
   "source": [
    "## Part 3: Principal Component Analysis\n",
    "\n",
    "* Implement the PCA algorithm using sci-kit learn library\n",
    "* Determine the optimal number of n components when performing PCA by observing the explained variance\n"
   ]
  },
  {
   "cell_type": "markdown",
   "metadata": {},
   "source": [
    "## Part 4: Clustering\n",
    "1) Create and interpret a dendogram whil using HAC to determine the optimal number of clusters"
   ]
  }
 ],
 "metadata": {
  "kernelspec": {
   "display_name": "Python 3",
   "language": "python",
   "name": "python3"
  },
  "language_info": {
   "codemirror_mode": {
    "name": "ipython",
    "version": 3
   },
   "file_extension": ".py",
   "mimetype": "text/x-python",
   "name": "python",
   "nbconvert_exporter": "python",
   "pygments_lexer": "ipython3",
   "version": "3.6.8"
  }
 },
 "nbformat": 4,
 "nbformat_minor": 2
}
